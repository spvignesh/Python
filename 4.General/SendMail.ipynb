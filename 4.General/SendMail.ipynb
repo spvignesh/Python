{
 "cells": [
  {
   "cell_type": "code",
   "execution_count": 13,
   "metadata": {},
   "outputs": [
    {
     "data": {
      "text/plain": [
       "(221, b'2.0.0 closing connection h2sm366116pfq.108 - gsmtp')"
      ]
     },
     "execution_count": 13,
     "metadata": {},
     "output_type": "execute_result"
    }
   ],
   "source": [
    "import smtplib\n",
    "smtpObj = smtplib.SMTP('smtp.gmail.com', 587)\n",
    "smtpObj.ehlo()\n",
    "smtpObj.starttls()\n",
    "MyMailId=\"mymailID@gmail.com\"\n",
    "ToMailId=\"mailId@company.com\"\n",
    "Pwd=\"mypassword\"\n",
    "#Make sure that the google privacy setting is turned ON for \"Less Secure app access\"\n",
    "smtpObj.login(MyMailId,Pwd)\n",
    "\n",
    "smtpObj.sendmail(MyMailId, ToMailId, 'Subject: Test Mail from Python.\\nDear Vignesh, This my test mail from Python. Regards, Vignesh ')\n",
    "{}\n",
    "smtpObj.quit()                 "
   ]
  },
  {
   "cell_type": "code",
   "execution_count": null,
   "metadata": {},
   "outputs": [],
   "source": []
  },
  {
   "cell_type": "code",
   "execution_count": null,
   "metadata": {},
   "outputs": [],
   "source": []
  }
 ],
 "metadata": {
  "kernelspec": {
   "display_name": "Python 3",
   "language": "python",
   "name": "python3"
  },
  "language_info": {
   "codemirror_mode": {
    "name": "ipython",
    "version": 3
   },
   "file_extension": ".py",
   "mimetype": "text/x-python",
   "name": "python",
   "nbconvert_exporter": "python",
   "pygments_lexer": "ipython3",
   "version": "3.7.4"
  }
 },
 "nbformat": 4,
 "nbformat_minor": 2
}
